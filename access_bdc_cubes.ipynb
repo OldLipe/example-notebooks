{
 "cells": [
  {
   "cell_type": "code",
   "execution_count": null,
   "metadata": {},
   "outputs": [],
   "source": [
    "#pip install --user git+https://github.com/brazil-data-cube/EOCubes@master --upgrade --no-cache-dir"
   ]
  },
  {
   "cell_type": "code",
   "execution_count": null,
   "metadata": {},
   "outputs": [],
   "source": [
    "### Import eocubes ###\n",
    "from bdc_eocubes.business import Business as eocubes"
   ]
  },
  {
   "cell_type": "code",
   "execution_count": null,
   "metadata": {},
   "outputs": [],
   "source": [
    "### List cubes ###\n",
    "cubes = eocubes.list_cubes()\n",
    "cubes"
   ]
  },
  {
   "cell_type": "code",
   "execution_count": null,
   "metadata": {
    "scrolled": true
   },
   "outputs": [],
   "source": [
    "### Get cube description ###\n",
    "cube_s10 = eocubes.describe_cube('S10m:STACK')\n",
    "cube_s10"
   ]
  },
  {
   "cell_type": "code",
   "execution_count": null,
   "metadata": {},
   "outputs": [],
   "source": [
    "### get cube ###\n",
    "my_cube = eocubes.get_cube('S10m:STACK', bbox= '-46.62597656250001,-13.19716452328198,-45.03570556640626,-12.297068292853805')\n",
    "my_cube"
   ]
  },
  {
   "cell_type": "code",
   "execution_count": null,
   "metadata": {},
   "outputs": [],
   "source": [
    "bands = my_cube['2018-09-01/2019-08-01']['tiles']['089098']['bands'].keys()\n",
    "print( bands )"
   ]
  },
  {
   "cell_type": "code",
   "execution_count": null,
   "metadata": {},
   "outputs": [],
   "source": [
    "links_nir = my_cube['2018-09-01/2019-08-01']['tiles']['089098']['bands']['nir']\n",
    "links_nir"
   ]
  },
  {
   "cell_type": "code",
   "execution_count": null,
   "metadata": {},
   "outputs": [],
   "source": [
    "filename_nir = links_nir[0]\n",
    "filename_nir"
   ]
  },
  {
   "cell_type": "code",
   "execution_count": null,
   "metadata": {},
   "outputs": [],
   "source": [
    "#### Import Libs ####\n",
    "import numpy\n",
    "import rasterio\n",
    "\n",
    "from math import floor, ceil\n",
    "from matplotlib import pyplot as plt\n",
    "from pyproj import Proj\n",
    "from rasterio.warp import transform\n",
    "from rasterio.windows import Window"
   ]
  },
  {
   "cell_type": "code",
   "execution_count": null,
   "metadata": {},
   "outputs": [],
   "source": [
    "def longlat2window(lon, lat, dataset):\n",
    "    \"\"\"\n",
    "    Args:\n",
    "        lon (tuple): Tuple of min and max lon\n",
    "        lat (tuple): Tuple of min and max lat\n",
    "        dataset: Rasterio dataset\n",
    "\n",
    "    Returns:\n",
    "        rasterio.windows.Window\n",
    "    \"\"\"\n",
    "    p = Proj(dataset.crs)\n",
    "    t = dataset.transform\n",
    "    xmin, ymin = p(lon[0], lat[0])\n",
    "    xmax, ymax = p(lon[1], lat[1])\n",
    "    col_min, row_min = ~t * (xmin, ymin)\n",
    "    col_max, row_max = ~t * (xmax, ymax)\n",
    "    return Window.from_slices(rows=(floor(row_max), ceil(row_min)),\n",
    "                              cols=(floor(col_min), ceil(col_max)))"
   ]
  },
  {
   "cell_type": "code",
   "execution_count": null,
   "metadata": {},
   "outputs": [],
   "source": [
    "with rasterio.open(filename_nir) as dataset:\n",
    "    print(dataset.profile)\n",
    "    #img = dataset.read(1) ### open entire scene is heavy\n",
    "    \n",
    "    img = dataset.read(1, window=Window(0, 0, 3000, 3000)) ### Window(col_off, row_off, width, height)\n",
    "    \n",
    "    plt.imshow(img, cmap='gray')\n",
    "    plt.show()"
   ]
  },
  {
   "cell_type": "code",
   "execution_count": null,
   "metadata": {},
   "outputs": [],
   "source": [
    "### CREATING BBOX ###\n",
    "w = -45.90\n",
    "n = -12.6\n",
    "e = -45.40\n",
    "s = -12.90\n",
    "\n",
    "with rasterio.open(filename_nir) as dataset:\n",
    "    img = dataset.read(1, window = longlat2window((w,e), (s,n), dataset)) ### Window(col_off, row_off, width, height)\n",
    "\n",
    "    plt.imshow(img, cmap='gray')\n",
    "    plt.show()"
   ]
  },
  {
   "cell_type": "code",
   "execution_count": null,
   "metadata": {},
   "outputs": [],
   "source": [
    "### Open several bands"
   ]
  },
  {
   "cell_type": "code",
   "execution_count": null,
   "metadata": {},
   "outputs": [],
   "source": [
    "print( bands )"
   ]
  },
  {
   "cell_type": "code",
   "execution_count": null,
   "metadata": {},
   "outputs": [],
   "source": [
    "### select a few bands\n",
    "my_bands = ('blue', 'green', 'red', 'nir')\n",
    "my_bands"
   ]
  },
  {
   "cell_type": "code",
   "execution_count": null,
   "metadata": {},
   "outputs": [],
   "source": [
    "import xarray\n",
    "\n",
    "nir = xarray.open_rasterio(filename_nir)"
   ]
  },
  {
   "cell_type": "code",
   "execution_count": null,
   "metadata": {},
   "outputs": [],
   "source": [
    "nir.variable.data"
   ]
  },
  {
   "cell_type": "code",
   "execution_count": null,
   "metadata": {},
   "outputs": [],
   "source": [
    "cube = my_cube['2018-09-01/2019-08-01']['tiles']['089098']['bands']\n",
    "for band in my_bands:\n",
    "    print( band )\n",
    "    \n",
    "    for link in cube[band]:\n",
    "        print( link )\n",
    "    #load bands to xarray dataset"
   ]
  },
  {
   "cell_type": "code",
   "execution_count": null,
   "metadata": {},
   "outputs": [],
   "source": [
    "### LEAFLET"
   ]
  },
  {
   "cell_type": "code",
   "execution_count": null,
   "metadata": {},
   "outputs": [],
   "source": [
    "from ipyleaflet import Map, WMSLayer"
   ]
  },
  {
   "cell_type": "code",
   "execution_count": null,
   "metadata": {},
   "outputs": [],
   "source": [
    "m = Map(center=[-12.75, -45.65], zoom=10)\n",
    "m"
   ]
  },
  {
   "cell_type": "code",
   "execution_count": null,
   "metadata": {},
   "outputs": [],
   "source": [
    "#sh_wms_url = 'https://services.sentinel-hub.com/ogc/wms/' + INSTANCE_ID + '?showlogo=0&time=2017-07-18/2017-07-18'\n",
    "#sh_wms_url"
   ]
  },
  {
   "cell_type": "code",
   "execution_count": null,
   "metadata": {},
   "outputs": [],
   "source": [
    "#m.add_layer(WMSLayer(url=sh_wms_url, layers=\"GEOLOGY\", tile_size=512))\n",
    "#print(m)"
   ]
  },
  {
   "cell_type": "code",
   "execution_count": null,
   "metadata": {},
   "outputs": [],
   "source": [
    "#center coordinates resulting in a bit off-center\n",
    "m.zoom = 8\n",
    "m.center=[-12.6, -46] "
   ]
  },
  {
   "cell_type": "code",
   "execution_count": null,
   "metadata": {},
   "outputs": [],
   "source": [
    "m.bounds"
   ]
  }
 ],
 "metadata": {
  "kernelspec": {
   "display_name": "Python [conda env:env_jupyter]",
   "language": "python",
   "name": "conda-env-env_jupyter-py"
  },
  "language_info": {
   "codemirror_mode": {
    "name": "ipython",
    "version": 3
   },
   "file_extension": ".py",
   "mimetype": "text/x-python",
   "name": "python",
   "nbconvert_exporter": "python",
   "pygments_lexer": "ipython3",
   "version": "3.6.7"
  }
 },
 "nbformat": 4,
 "nbformat_minor": 2
}
